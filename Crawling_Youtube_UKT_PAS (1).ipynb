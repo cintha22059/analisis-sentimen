{
  "nbformat": 4,
  "nbformat_minor": 0,
  "metadata": {
    "colab": {
      "provenance": []
    },
    "kernelspec": {
      "name": "python3",
      "display_name": "Python 3"
    },
    "language_info": {
      "name": "python"
    }
  },
  "cells": [
    {
      "cell_type": "markdown",
      "source": [
        "YOUTUBE\n",
        "1. https://youtu.be/-41ZuwLCrNg?si=9G3CfV8zxixP5Iby\n",
        "2. https://youtu.be/8HX8nm2fO_Y?si=-2syG8bOEMTYPD_Z\n",
        "3. https://youtu.be/O2DZUexb9ng?si=QZE7UlfieNtjWyNO\n",
        "4. https://youtu.be/6LTgh-Myo_g?si=T98nMQKL_-kCoXSq\n",
        "5. https://youtu.be/f9XxAw8tVa8?si=hjMvZmrkmXFC9drX\n",
        "6. https://youtu.be/jsauYdSD9Y8?si=wRRKeEIexOoiCy18\n",
        "7. https://youtu.be/oSeQXIwplvg?si=eLXQQ8c0eMfYM7k2\n"
      ],
      "metadata": {
        "id": "E6haiszSBbE-"
      }
    },
    {
      "cell_type": "code",
      "execution_count": null,
      "metadata": {
        "id": "YHdM9LuIukjx",
        "colab": {
          "base_uri": "https://localhost:8080/",
          "height": 17
        },
        "outputId": "3a78b38f-a36d-45ba-beab-76d79e858de3"
      },
      "outputs": [
        {
          "output_type": "display_data",
          "data": {
            "text/plain": [
              "<IPython.core.display.Javascript object>"
            ],
            "application/javascript": [
              "\n",
              "    async function download(id, filename, size) {\n",
              "      if (!google.colab.kernel.accessAllowed) {\n",
              "        return;\n",
              "      }\n",
              "      const div = document.createElement('div');\n",
              "      const label = document.createElement('label');\n",
              "      label.textContent = `Downloading \"${filename}\": `;\n",
              "      div.appendChild(label);\n",
              "      const progress = document.createElement('progress');\n",
              "      progress.max = size;\n",
              "      div.appendChild(progress);\n",
              "      document.body.appendChild(div);\n",
              "\n",
              "      const buffers = [];\n",
              "      let downloaded = 0;\n",
              "\n",
              "      const channel = await google.colab.kernel.comms.open(id);\n",
              "      // Send a message to notify the kernel that we're ready.\n",
              "      channel.send({})\n",
              "\n",
              "      for await (const message of channel.messages) {\n",
              "        // Send a message to notify the kernel that we're ready.\n",
              "        channel.send({})\n",
              "        if (message.buffers) {\n",
              "          for (const buffer of message.buffers) {\n",
              "            buffers.push(buffer);\n",
              "            downloaded += buffer.byteLength;\n",
              "            progress.value = downloaded;\n",
              "          }\n",
              "        }\n",
              "      }\n",
              "      const blob = new Blob(buffers, {type: 'application/binary'});\n",
              "      const a = document.createElement('a');\n",
              "      a.href = window.URL.createObjectURL(blob);\n",
              "      a.download = filename;\n",
              "      div.appendChild(a);\n",
              "      a.click();\n",
              "      div.remove();\n",
              "    }\n",
              "  "
            ]
          },
          "metadata": {}
        },
        {
          "output_type": "display_data",
          "data": {
            "text/plain": [
              "<IPython.core.display.Javascript object>"
            ],
            "application/javascript": [
              "download(\"download_dfc38bd5-65c8-4ac6-95c5-9f913e86d79b\", \"UKT_youtube_comments.csv\", 264383)"
            ]
          },
          "metadata": {}
        }
      ],
      "source": [
        "from googleapiclient.discovery import build\n",
        "import pandas as pd\n",
        "\n",
        "def get_video_comments(video_id, api_key):\n",
        "    youtube = build('youtube', 'v3', developerKey=api_key)\n",
        "    comments_data = []\n",
        "    nextPageToken = None\n",
        "    while True:\n",
        "        response = youtube.commentThreads().list(\n",
        "            part='snippet',\n",
        "            videoId=video_id,\n",
        "            maxResults=100,\n",
        "            pageToken=nextPageToken\n",
        "        ).execute()\n",
        "        for item in response['items']:\n",
        "            # Extract top-level comment data\n",
        "            top_level_comment = item['snippet']['topLevelComment']['snippet']\n",
        "            top_level_text = top_level_comment['textOriginal']\n",
        "            top_level_author = top_level_comment['authorDisplayName']\n",
        "            top_level_likes = top_level_comment['likeCount']\n",
        "            top_level_published = top_level_comment['publishedAt']\n",
        "\n",
        "            # Append top-level comment data to list\n",
        "            comments_data.append({\n",
        "                'Comment': top_level_text,\n",
        "                'Author': top_level_author,\n",
        "                'Likes': top_level_likes,\n",
        "                'PublishedAt': top_level_published\n",
        "            })\n",
        "\n",
        "            # Check if there are replies to the top-level comment\n",
        "            replies = item['snippet']['totalReplyCount']\n",
        "            if replies > 0:\n",
        "                for reply in youtube.comments().list(\n",
        "                    part='snippet',\n",
        "                    parentId=item['id'],\n",
        "                    maxResults=100\n",
        "                ).execute()['items']:\n",
        "                    reply_text = reply['snippet']['textOriginal']\n",
        "                    reply_author = reply['snippet']['authorDisplayName']\n",
        "                    reply_likes = reply['snippet']['likeCount']\n",
        "                    reply_published = reply['snippet']['publishedAt']\n",
        "\n",
        "                    # Append reply data to list\n",
        "                    comments_data.append({\n",
        "                        'Comment': reply_text,\n",
        "                        'Author': reply_author,\n",
        "                        'Likes': reply_likes,\n",
        "                        'PublishedAt': reply_published\n",
        "                    })\n",
        "\n",
        "        nextPageToken = response.get('nextPageToken')\n",
        "        if not nextPageToken:\n",
        "            break\n",
        "    return comments_data\n",
        "\n",
        "# Masukkan ID video YouTube dan kunci API Anda\n",
        "video_id = '-41ZuwLCrNg'\n",
        "api_key = '-'\n",
        "\n",
        "# Panggil fungsi untuk mendapatkan komentar beserta balasan dan informasi tambahan\n",
        "comments_data = get_video_comments(video_id, api_key)\n",
        "\n",
        "# Simpan data komentar beserta balasan ke dalam DataFrame\n",
        "df = pd.DataFrame(comments_data)\n",
        "\n",
        "# Simpan data ke file CSV\n",
        "df.to_csv('youtube_comments_with_replies.csv', index=False)\n",
        "\n",
        "# Simpan data komentar ke file CSV\n",
        "df.to_csv('youtube_comments_with_info.csv', index=False)\n",
        "df.to_csv('UKT_youtube_comments.csv', index=False)\n",
        "from google.colab import files\n",
        "files.download('UKT_youtube_comments.csv')"
      ]
    },
    {
      "cell_type": "code",
      "source": [
        "# Masukkan ID video YouTube dan kunci API Anda\n",
        "video_id = '8HX8nm2fO_Y'\n",
        "api_key = '-'\n",
        "\n",
        "# Panggil fungsi untuk mendapatkan komentar beserta balasan dan informasi tambahan\n",
        "comments_data = get_video_comments(video_id, api_key)\n",
        "\n",
        "# Simpan data komentar beserta balasan ke dalam DataFrame\n",
        "df = pd.DataFrame(comments_data)\n",
        "\n",
        "# Simpan data ke file CSV\n",
        "df.to_csv('youtube_comments_with_replies.csv', index=False)\n",
        "\n",
        "# Simpan data komentar ke file CSV\n",
        "df.to_csv('youtube_comments_with_info.csv', index=False)\n",
        "df.to_csv('UKT_youtube_comments.csv', index=False)\n",
        "from google.colab import files\n",
        "files.download('UKT_youtube_comments.csv')"
      ],
      "metadata": {
        "id": "993lZQ8QZxz6",
        "colab": {
          "base_uri": "https://localhost:8080/",
          "height": 17
        },
        "outputId": "2090bbf6-e67b-422f-9f7b-9e0e3df55c09"
      },
      "execution_count": null,
      "outputs": [
        {
          "output_type": "display_data",
          "data": {
            "text/plain": [
              "<IPython.core.display.Javascript object>"
            ],
            "application/javascript": [
              "\n",
              "    async function download(id, filename, size) {\n",
              "      if (!google.colab.kernel.accessAllowed) {\n",
              "        return;\n",
              "      }\n",
              "      const div = document.createElement('div');\n",
              "      const label = document.createElement('label');\n",
              "      label.textContent = `Downloading \"${filename}\": `;\n",
              "      div.appendChild(label);\n",
              "      const progress = document.createElement('progress');\n",
              "      progress.max = size;\n",
              "      div.appendChild(progress);\n",
              "      document.body.appendChild(div);\n",
              "\n",
              "      const buffers = [];\n",
              "      let downloaded = 0;\n",
              "\n",
              "      const channel = await google.colab.kernel.comms.open(id);\n",
              "      // Send a message to notify the kernel that we're ready.\n",
              "      channel.send({})\n",
              "\n",
              "      for await (const message of channel.messages) {\n",
              "        // Send a message to notify the kernel that we're ready.\n",
              "        channel.send({})\n",
              "        if (message.buffers) {\n",
              "          for (const buffer of message.buffers) {\n",
              "            buffers.push(buffer);\n",
              "            downloaded += buffer.byteLength;\n",
              "            progress.value = downloaded;\n",
              "          }\n",
              "        }\n",
              "      }\n",
              "      const blob = new Blob(buffers, {type: 'application/binary'});\n",
              "      const a = document.createElement('a');\n",
              "      a.href = window.URL.createObjectURL(blob);\n",
              "      a.download = filename;\n",
              "      div.appendChild(a);\n",
              "      a.click();\n",
              "      div.remove();\n",
              "    }\n",
              "  "
            ]
          },
          "metadata": {}
        },
        {
          "output_type": "display_data",
          "data": {
            "text/plain": [
              "<IPython.core.display.Javascript object>"
            ],
            "application/javascript": [
              "download(\"download_c35f503a-2399-4c08-9727-5656cf3cd966\", \"UKT_youtube_comments.csv\", 382977)"
            ]
          },
          "metadata": {}
        }
      ]
    },
    {
      "cell_type": "code",
      "source": [
        "# Masukkan ID video YouTube dan kunci API Anda\n",
        "video_id = 'O2DZUexb9ng'\n",
        "api_key = '-'\n",
        "\n",
        "# Panggil fungsi untuk mendapatkan komentar beserta balasan dan informasi tambahan\n",
        "comments_data = get_video_comments(video_id, api_key)\n",
        "\n",
        "# Simpan data komentar beserta balasan ke dalam DataFrame\n",
        "df = pd.DataFrame(comments_data)\n",
        "\n",
        "# Simpan data ke file CSV\n",
        "df.to_csv('youtube_comments_with_replies.csv', index=False)\n",
        "\n",
        "# Simpan data komentar ke file CSV\n",
        "df.to_csv('youtube_comments_with_info.csv', index=False)\n",
        "df.to_csv('UKT_youtube_comments.csv', index=False)\n",
        "from google.colab import files\n",
        "files.download('UKT_youtube_comments.csv')"
      ],
      "metadata": {
        "colab": {
          "base_uri": "https://localhost:8080/",
          "height": 17
        },
        "outputId": "0656591b-3050-4646-a276-07eb1e099adf",
        "id": "Atu2HanpGoPa"
      },
      "execution_count": null,
      "outputs": [
        {
          "output_type": "display_data",
          "data": {
            "text/plain": [
              "<IPython.core.display.Javascript object>"
            ],
            "application/javascript": [
              "\n",
              "    async function download(id, filename, size) {\n",
              "      if (!google.colab.kernel.accessAllowed) {\n",
              "        return;\n",
              "      }\n",
              "      const div = document.createElement('div');\n",
              "      const label = document.createElement('label');\n",
              "      label.textContent = `Downloading \"${filename}\": `;\n",
              "      div.appendChild(label);\n",
              "      const progress = document.createElement('progress');\n",
              "      progress.max = size;\n",
              "      div.appendChild(progress);\n",
              "      document.body.appendChild(div);\n",
              "\n",
              "      const buffers = [];\n",
              "      let downloaded = 0;\n",
              "\n",
              "      const channel = await google.colab.kernel.comms.open(id);\n",
              "      // Send a message to notify the kernel that we're ready.\n",
              "      channel.send({})\n",
              "\n",
              "      for await (const message of channel.messages) {\n",
              "        // Send a message to notify the kernel that we're ready.\n",
              "        channel.send({})\n",
              "        if (message.buffers) {\n",
              "          for (const buffer of message.buffers) {\n",
              "            buffers.push(buffer);\n",
              "            downloaded += buffer.byteLength;\n",
              "            progress.value = downloaded;\n",
              "          }\n",
              "        }\n",
              "      }\n",
              "      const blob = new Blob(buffers, {type: 'application/binary'});\n",
              "      const a = document.createElement('a');\n",
              "      a.href = window.URL.createObjectURL(blob);\n",
              "      a.download = filename;\n",
              "      div.appendChild(a);\n",
              "      a.click();\n",
              "      div.remove();\n",
              "    }\n",
              "  "
            ]
          },
          "metadata": {}
        },
        {
          "output_type": "display_data",
          "data": {
            "text/plain": [
              "<IPython.core.display.Javascript object>"
            ],
            "application/javascript": [
              "download(\"download_6ceea1c3-3130-4cf8-9744-a9a8a1e507cc\", \"UKT_youtube_comments.csv\", 231500)"
            ]
          },
          "metadata": {}
        }
      ]
    },
    {
      "cell_type": "code",
      "source": [
        "# Masukkan ID video YouTube dan kunci API Anda\n",
        "video_id = '6LTgh-Myo_g'\n",
        "api_key = '-'\n",
        "\n",
        "# Panggil fungsi untuk mendapatkan komentar beserta balasan dan informasi tambahan\n",
        "comments_data = get_video_comments(video_id, api_key)\n",
        "\n",
        "# Simpan data komentar beserta balasan ke dalam DataFrame\n",
        "df = pd.DataFrame(comments_data)\n",
        "\n",
        "# Simpan data ke file CSV\n",
        "df.to_csv('youtube_comments_with_replies.csv', index=False)\n",
        "\n",
        "# Simpan data komentar ke file CSV\n",
        "df.to_csv('youtube_comments_with_info.csv', index=False)\n",
        "df.to_csv('UKT_youtube_comments.csv', index=False)\n",
        "from google.colab import files\n",
        "files.download('UKT_youtube_comments.csv')"
      ],
      "metadata": {
        "colab": {
          "base_uri": "https://localhost:8080/",
          "height": 17
        },
        "outputId": "432b91f0-ef66-44d3-997a-769368a1bff7",
        "id": "M7zhx2j_GnZa"
      },
      "execution_count": null,
      "outputs": [
        {
          "output_type": "display_data",
          "data": {
            "text/plain": [
              "<IPython.core.display.Javascript object>"
            ],
            "application/javascript": [
              "\n",
              "    async function download(id, filename, size) {\n",
              "      if (!google.colab.kernel.accessAllowed) {\n",
              "        return;\n",
              "      }\n",
              "      const div = document.createElement('div');\n",
              "      const label = document.createElement('label');\n",
              "      label.textContent = `Downloading \"${filename}\": `;\n",
              "      div.appendChild(label);\n",
              "      const progress = document.createElement('progress');\n",
              "      progress.max = size;\n",
              "      div.appendChild(progress);\n",
              "      document.body.appendChild(div);\n",
              "\n",
              "      const buffers = [];\n",
              "      let downloaded = 0;\n",
              "\n",
              "      const channel = await google.colab.kernel.comms.open(id);\n",
              "      // Send a message to notify the kernel that we're ready.\n",
              "      channel.send({})\n",
              "\n",
              "      for await (const message of channel.messages) {\n",
              "        // Send a message to notify the kernel that we're ready.\n",
              "        channel.send({})\n",
              "        if (message.buffers) {\n",
              "          for (const buffer of message.buffers) {\n",
              "            buffers.push(buffer);\n",
              "            downloaded += buffer.byteLength;\n",
              "            progress.value = downloaded;\n",
              "          }\n",
              "        }\n",
              "      }\n",
              "      const blob = new Blob(buffers, {type: 'application/binary'});\n",
              "      const a = document.createElement('a');\n",
              "      a.href = window.URL.createObjectURL(blob);\n",
              "      a.download = filename;\n",
              "      div.appendChild(a);\n",
              "      a.click();\n",
              "      div.remove();\n",
              "    }\n",
              "  "
            ]
          },
          "metadata": {}
        },
        {
          "output_type": "display_data",
          "data": {
            "text/plain": [
              "<IPython.core.display.Javascript object>"
            ],
            "application/javascript": [
              "download(\"download_b98951eb-b241-4aee-b1e4-efe6b8c0ff84\", \"UKT_youtube_comments.csv\", 180517)"
            ]
          },
          "metadata": {}
        }
      ]
    },
    {
      "cell_type": "code",
      "source": [
        "# Masukkan ID video YouTube dan kunci API Anda\n",
        "video_id = 'f9XxAw8tVa8'\n",
        "api_key = '-'\n",
        "\n",
        "# Panggil fungsi untuk mendapatkan komentar beserta balasan dan informasi tambahan\n",
        "comments_data = get_video_comments(video_id, api_key)\n",
        "\n",
        "# Simpan data komentar beserta balasan ke dalam DataFrame\n",
        "df = pd.DataFrame(comments_data)\n",
        "\n",
        "# Simpan data ke file CSV\n",
        "df.to_csv('youtube_comments_with_replies.csv', index=False)\n",
        "\n",
        "# Simpan data komentar ke file CSV\n",
        "df.to_csv('youtube_comments_with_info.csv', index=False)\n",
        "df.to_csv('UKT_youtube_comments.csv', index=False)\n",
        "from google.colab import files\n",
        "files.download('UKT_youtube_comments.csv')"
      ],
      "metadata": {
        "colab": {
          "base_uri": "https://localhost:8080/",
          "height": 17
        },
        "id": "Jfem0oN7HQOY",
        "outputId": "dd0ebc79-1478-4998-8721-d1df114d3302"
      },
      "execution_count": null,
      "outputs": [
        {
          "output_type": "display_data",
          "data": {
            "text/plain": [
              "<IPython.core.display.Javascript object>"
            ],
            "application/javascript": [
              "\n",
              "    async function download(id, filename, size) {\n",
              "      if (!google.colab.kernel.accessAllowed) {\n",
              "        return;\n",
              "      }\n",
              "      const div = document.createElement('div');\n",
              "      const label = document.createElement('label');\n",
              "      label.textContent = `Downloading \"${filename}\": `;\n",
              "      div.appendChild(label);\n",
              "      const progress = document.createElement('progress');\n",
              "      progress.max = size;\n",
              "      div.appendChild(progress);\n",
              "      document.body.appendChild(div);\n",
              "\n",
              "      const buffers = [];\n",
              "      let downloaded = 0;\n",
              "\n",
              "      const channel = await google.colab.kernel.comms.open(id);\n",
              "      // Send a message to notify the kernel that we're ready.\n",
              "      channel.send({})\n",
              "\n",
              "      for await (const message of channel.messages) {\n",
              "        // Send a message to notify the kernel that we're ready.\n",
              "        channel.send({})\n",
              "        if (message.buffers) {\n",
              "          for (const buffer of message.buffers) {\n",
              "            buffers.push(buffer);\n",
              "            downloaded += buffer.byteLength;\n",
              "            progress.value = downloaded;\n",
              "          }\n",
              "        }\n",
              "      }\n",
              "      const blob = new Blob(buffers, {type: 'application/binary'});\n",
              "      const a = document.createElement('a');\n",
              "      a.href = window.URL.createObjectURL(blob);\n",
              "      a.download = filename;\n",
              "      div.appendChild(a);\n",
              "      a.click();\n",
              "      div.remove();\n",
              "    }\n",
              "  "
            ]
          },
          "metadata": {}
        },
        {
          "output_type": "display_data",
          "data": {
            "text/plain": [
              "<IPython.core.display.Javascript object>"
            ],
            "application/javascript": [
              "download(\"download_9c72a8f4-379c-4ad1-a257-f5115d41dfa1\", \"UKT_youtube_comments.csv\", 46547)"
            ]
          },
          "metadata": {}
        }
      ]
    },
    {
      "cell_type": "code",
      "source": [
        "# Masukkan ID video YouTube dan kunci API Anda\n",
        "video_id = 'jsauYdSD9Y8'\n",
        "api_key = '-'\n",
        "\n",
        "# Panggil fungsi untuk mendapatkan komentar beserta balasan dan informasi tambahan\n",
        "comments_data = get_video_comments(video_id, api_key)\n",
        "\n",
        "# Simpan data komentar beserta balasan ke dalam DataFrame\n",
        "df = pd.DataFrame(comments_data)\n",
        "\n",
        "# Simpan data ke file CSV\n",
        "df.to_csv('youtube_comments_with_replies.csv', index=False)\n",
        "\n",
        "# Simpan data komentar ke file CSV\n",
        "df.to_csv('youtube_comments_with_info.csv', index=False)\n",
        "df.to_csv('UKT_youtube_comments.csv', index=False)\n",
        "from google.colab import files\n",
        "files.download('UKT_youtube_comments.csv')"
      ],
      "metadata": {
        "colab": {
          "base_uri": "https://localhost:8080/",
          "height": 17
        },
        "id": "D5DKw5UbHWZt",
        "outputId": "92f07404-c5e6-4e2a-abb6-ca5feca7b405"
      },
      "execution_count": null,
      "outputs": [
        {
          "output_type": "display_data",
          "data": {
            "text/plain": [
              "<IPython.core.display.Javascript object>"
            ],
            "application/javascript": [
              "\n",
              "    async function download(id, filename, size) {\n",
              "      if (!google.colab.kernel.accessAllowed) {\n",
              "        return;\n",
              "      }\n",
              "      const div = document.createElement('div');\n",
              "      const label = document.createElement('label');\n",
              "      label.textContent = `Downloading \"${filename}\": `;\n",
              "      div.appendChild(label);\n",
              "      const progress = document.createElement('progress');\n",
              "      progress.max = size;\n",
              "      div.appendChild(progress);\n",
              "      document.body.appendChild(div);\n",
              "\n",
              "      const buffers = [];\n",
              "      let downloaded = 0;\n",
              "\n",
              "      const channel = await google.colab.kernel.comms.open(id);\n",
              "      // Send a message to notify the kernel that we're ready.\n",
              "      channel.send({})\n",
              "\n",
              "      for await (const message of channel.messages) {\n",
              "        // Send a message to notify the kernel that we're ready.\n",
              "        channel.send({})\n",
              "        if (message.buffers) {\n",
              "          for (const buffer of message.buffers) {\n",
              "            buffers.push(buffer);\n",
              "            downloaded += buffer.byteLength;\n",
              "            progress.value = downloaded;\n",
              "          }\n",
              "        }\n",
              "      }\n",
              "      const blob = new Blob(buffers, {type: 'application/binary'});\n",
              "      const a = document.createElement('a');\n",
              "      a.href = window.URL.createObjectURL(blob);\n",
              "      a.download = filename;\n",
              "      div.appendChild(a);\n",
              "      a.click();\n",
              "      div.remove();\n",
              "    }\n",
              "  "
            ]
          },
          "metadata": {}
        },
        {
          "output_type": "display_data",
          "data": {
            "text/plain": [
              "<IPython.core.display.Javascript object>"
            ],
            "application/javascript": [
              "download(\"download_0e32de0c-33f9-4440-a32c-53fae86990a2\", \"UKT_youtube_comments.csv\", 104337)"
            ]
          },
          "metadata": {}
        }
      ]
    },
    {
      "cell_type": "code",
      "source": [
        "# Masukkan ID video YouTube dan kunci API Anda\n",
        "video_id = 'oSeQXIwplvg'\n",
        "api_key = '-'\n",
        "\n",
        "# Panggil fungsi untuk mendapatkan komentar beserta balasan dan informasi tambahan\n",
        "comments_data = get_video_comments(video_id, api_key)\n",
        "\n",
        "# Simpan data komentar beserta balasan ke dalam DataFrame\n",
        "df = pd.DataFrame(comments_data)\n",
        "\n",
        "# Simpan data ke file CSV\n",
        "df.to_csv('youtube_comments_with_replies.csv', index=False)\n",
        "\n",
        "# Simpan data komentar ke file CSV\n",
        "df.to_csv('youtube_comments_with_info.csv', index=False)\n",
        "df.to_csv('UKT_youtube_comments.csv', index=False)\n",
        "from google.colab import files\n",
        "files.download('UKT_youtube_comments.csv')"
      ],
      "metadata": {
        "colab": {
          "base_uri": "https://localhost:8080/",
          "height": 17
        },
        "id": "-ZLutWWvHWnV",
        "outputId": "08165d9b-fe7e-4ed1-c0a1-895bc5877617"
      },
      "execution_count": null,
      "outputs": [
        {
          "output_type": "display_data",
          "data": {
            "text/plain": [
              "<IPython.core.display.Javascript object>"
            ],
            "application/javascript": [
              "\n",
              "    async function download(id, filename, size) {\n",
              "      if (!google.colab.kernel.accessAllowed) {\n",
              "        return;\n",
              "      }\n",
              "      const div = document.createElement('div');\n",
              "      const label = document.createElement('label');\n",
              "      label.textContent = `Downloading \"${filename}\": `;\n",
              "      div.appendChild(label);\n",
              "      const progress = document.createElement('progress');\n",
              "      progress.max = size;\n",
              "      div.appendChild(progress);\n",
              "      document.body.appendChild(div);\n",
              "\n",
              "      const buffers = [];\n",
              "      let downloaded = 0;\n",
              "\n",
              "      const channel = await google.colab.kernel.comms.open(id);\n",
              "      // Send a message to notify the kernel that we're ready.\n",
              "      channel.send({})\n",
              "\n",
              "      for await (const message of channel.messages) {\n",
              "        // Send a message to notify the kernel that we're ready.\n",
              "        channel.send({})\n",
              "        if (message.buffers) {\n",
              "          for (const buffer of message.buffers) {\n",
              "            buffers.push(buffer);\n",
              "            downloaded += buffer.byteLength;\n",
              "            progress.value = downloaded;\n",
              "          }\n",
              "        }\n",
              "      }\n",
              "      const blob = new Blob(buffers, {type: 'application/binary'});\n",
              "      const a = document.createElement('a');\n",
              "      a.href = window.URL.createObjectURL(blob);\n",
              "      a.download = filename;\n",
              "      div.appendChild(a);\n",
              "      a.click();\n",
              "      div.remove();\n",
              "    }\n",
              "  "
            ]
          },
          "metadata": {}
        },
        {
          "output_type": "display_data",
          "data": {
            "text/plain": [
              "<IPython.core.display.Javascript object>"
            ],
            "application/javascript": [
              "download(\"download_31da9b74-a654-4260-8825-810adbdba1a1\", \"UKT_youtube_comments.csv\", 102021)"
            ]
          },
          "metadata": {}
        }
      ]
    },
    {
      "cell_type": "code",
      "source": [
        "# Masukkan ID video YouTube dan kunci API Anda\n",
        "video_id = 'jsauYdSD9Y8'\n",
        "api_key = '-'\n",
        "\n",
        "# Panggil fungsi untuk mendapatkan komentar beserta balasan dan informasi tambahan\n",
        "comments_data = get_video_comments(video_id, api_key)\n",
        "\n",
        "# Simpan data komentar beserta balasan ke dalam DataFrame\n",
        "df = pd.DataFrame(comments_data)\n",
        "\n",
        "# Simpan data ke file CSV\n",
        "df.to_csv('youtube_comments_with_replies.csv', index=False)\n",
        "\n",
        "# Simpan data komentar ke file CSV\n",
        "df.to_csv('youtube_comments_with_info.csv', index=False)\n",
        "df.to_csv('UKT_youtube_comments.csv', index=False)\n",
        "from google.colab import files\n",
        "files.download('UKT_youtube_comments.csv')"
      ],
      "metadata": {
        "colab": {
          "base_uri": "https://localhost:8080/",
          "height": 17
        },
        "id": "9ySon9sLHWz9",
        "outputId": "b13f6166-827a-4639-cbff-7552c01edd0c"
      },
      "execution_count": null,
      "outputs": [
        {
          "output_type": "display_data",
          "data": {
            "text/plain": [
              "<IPython.core.display.Javascript object>"
            ],
            "application/javascript": [
              "\n",
              "    async function download(id, filename, size) {\n",
              "      if (!google.colab.kernel.accessAllowed) {\n",
              "        return;\n",
              "      }\n",
              "      const div = document.createElement('div');\n",
              "      const label = document.createElement('label');\n",
              "      label.textContent = `Downloading \"${filename}\": `;\n",
              "      div.appendChild(label);\n",
              "      const progress = document.createElement('progress');\n",
              "      progress.max = size;\n",
              "      div.appendChild(progress);\n",
              "      document.body.appendChild(div);\n",
              "\n",
              "      const buffers = [];\n",
              "      let downloaded = 0;\n",
              "\n",
              "      const channel = await google.colab.kernel.comms.open(id);\n",
              "      // Send a message to notify the kernel that we're ready.\n",
              "      channel.send({})\n",
              "\n",
              "      for await (const message of channel.messages) {\n",
              "        // Send a message to notify the kernel that we're ready.\n",
              "        channel.send({})\n",
              "        if (message.buffers) {\n",
              "          for (const buffer of message.buffers) {\n",
              "            buffers.push(buffer);\n",
              "            downloaded += buffer.byteLength;\n",
              "            progress.value = downloaded;\n",
              "          }\n",
              "        }\n",
              "      }\n",
              "      const blob = new Blob(buffers, {type: 'application/binary'});\n",
              "      const a = document.createElement('a');\n",
              "      a.href = window.URL.createObjectURL(blob);\n",
              "      a.download = filename;\n",
              "      div.appendChild(a);\n",
              "      a.click();\n",
              "      div.remove();\n",
              "    }\n",
              "  "
            ]
          },
          "metadata": {}
        },
        {
          "output_type": "display_data",
          "data": {
            "text/plain": [
              "<IPython.core.display.Javascript object>"
            ],
            "application/javascript": [
              "download(\"download_2fee0537-4fe5-4e97-9391-4f226262c556\", \"UKT_youtube_comments.csv\", 104337)"
            ]
          },
          "metadata": {}
        }
      ]
    },
    {
      "cell_type": "code",
      "source": [
        "# Masukkan ID video YouTube dan kunci API Anda\n",
        "video_id = '8nToHItI38k'\n",
        "api_key = '-'\n",
        "\n",
        "# Panggil fungsi untuk mendapatkan komentar beserta balasan dan informasi tambahan\n",
        "comments_data = get_video_comments(video_id, api_key)\n",
        "\n",
        "# Simpan data komentar beserta balasan ke dalam DataFrame\n",
        "df = pd.DataFrame(comments_data)\n",
        "\n",
        "# Simpan data ke file CSV\n",
        "df.to_csv('youtube_comments_with_replies.csv', index=False)\n",
        "\n",
        "# Simpan data komentar ke file CSV\n",
        "df.to_csv('youtube_comments_with_info.csv', index=False)\n",
        "df.to_csv('UKT_youtube_comments.csv', index=False)\n",
        "from google.colab import files\n",
        "files.download('UKT_youtube_comments.csv')"
      ],
      "metadata": {
        "colab": {
          "base_uri": "https://localhost:8080/",
          "height": 17
        },
        "id": "96K_SiQoHW_M",
        "outputId": "8166105d-fcdc-414b-ed64-29f22a2bf90e"
      },
      "execution_count": null,
      "outputs": [
        {
          "output_type": "display_data",
          "data": {
            "text/plain": [
              "<IPython.core.display.Javascript object>"
            ],
            "application/javascript": [
              "\n",
              "    async function download(id, filename, size) {\n",
              "      if (!google.colab.kernel.accessAllowed) {\n",
              "        return;\n",
              "      }\n",
              "      const div = document.createElement('div');\n",
              "      const label = document.createElement('label');\n",
              "      label.textContent = `Downloading \"${filename}\": `;\n",
              "      div.appendChild(label);\n",
              "      const progress = document.createElement('progress');\n",
              "      progress.max = size;\n",
              "      div.appendChild(progress);\n",
              "      document.body.appendChild(div);\n",
              "\n",
              "      const buffers = [];\n",
              "      let downloaded = 0;\n",
              "\n",
              "      const channel = await google.colab.kernel.comms.open(id);\n",
              "      // Send a message to notify the kernel that we're ready.\n",
              "      channel.send({})\n",
              "\n",
              "      for await (const message of channel.messages) {\n",
              "        // Send a message to notify the kernel that we're ready.\n",
              "        channel.send({})\n",
              "        if (message.buffers) {\n",
              "          for (const buffer of message.buffers) {\n",
              "            buffers.push(buffer);\n",
              "            downloaded += buffer.byteLength;\n",
              "            progress.value = downloaded;\n",
              "          }\n",
              "        }\n",
              "      }\n",
              "      const blob = new Blob(buffers, {type: 'application/binary'});\n",
              "      const a = document.createElement('a');\n",
              "      a.href = window.URL.createObjectURL(blob);\n",
              "      a.download = filename;\n",
              "      div.appendChild(a);\n",
              "      a.click();\n",
              "      div.remove();\n",
              "    }\n",
              "  "
            ]
          },
          "metadata": {}
        },
        {
          "output_type": "display_data",
          "data": {
            "text/plain": [
              "<IPython.core.display.Javascript object>"
            ],
            "application/javascript": [
              "download(\"download_714cb002-d365-494d-b3c9-70efe988cdc8\", \"UKT_youtube_comments.csv\", 94361)"
            ]
          },
          "metadata": {}
        }
      ]
    },
    {
      "cell_type": "code",
      "source": [
        "# Masukkan ID video YouTube dan kunci API Anda\n",
        "video_id = 'ghW0BYfE6FA'\n",
        "api_key = '-'\n",
        "\n",
        "# Panggil fungsi untuk mendapatkan komentar beserta balasan dan informasi tambahan\n",
        "comments_data = get_video_comments(video_id, api_key)\n",
        "\n",
        "# Simpan data komentar beserta balasan ke dalam DataFrame\n",
        "df = pd.DataFrame(comments_data)\n",
        "\n",
        "# Simpan data ke file CSV\n",
        "df.to_csv('youtube_comments_with_replies.csv', index=False)\n",
        "\n",
        "# Simpan data komentar ke file CSV\n",
        "df.to_csv('youtube_comments_with_info.csv', index=False)\n",
        "df.to_csv('UKT_youtube_comments.csv', index=False)\n",
        "from google.colab import files\n",
        "files.download('UKT_youtube_comments.csv')"
      ],
      "metadata": {
        "colab": {
          "base_uri": "https://localhost:8080/",
          "height": 17
        },
        "id": "mD7n35QvHXWW",
        "outputId": "eaaa146f-da76-4a9a-fbba-5d6aeec578d4"
      },
      "execution_count": null,
      "outputs": [
        {
          "output_type": "display_data",
          "data": {
            "text/plain": [
              "<IPython.core.display.Javascript object>"
            ],
            "application/javascript": [
              "\n",
              "    async function download(id, filename, size) {\n",
              "      if (!google.colab.kernel.accessAllowed) {\n",
              "        return;\n",
              "      }\n",
              "      const div = document.createElement('div');\n",
              "      const label = document.createElement('label');\n",
              "      label.textContent = `Downloading \"${filename}\": `;\n",
              "      div.appendChild(label);\n",
              "      const progress = document.createElement('progress');\n",
              "      progress.max = size;\n",
              "      div.appendChild(progress);\n",
              "      document.body.appendChild(div);\n",
              "\n",
              "      const buffers = [];\n",
              "      let downloaded = 0;\n",
              "\n",
              "      const channel = await google.colab.kernel.comms.open(id);\n",
              "      // Send a message to notify the kernel that we're ready.\n",
              "      channel.send({})\n",
              "\n",
              "      for await (const message of channel.messages) {\n",
              "        // Send a message to notify the kernel that we're ready.\n",
              "        channel.send({})\n",
              "        if (message.buffers) {\n",
              "          for (const buffer of message.buffers) {\n",
              "            buffers.push(buffer);\n",
              "            downloaded += buffer.byteLength;\n",
              "            progress.value = downloaded;\n",
              "          }\n",
              "        }\n",
              "      }\n",
              "      const blob = new Blob(buffers, {type: 'application/binary'});\n",
              "      const a = document.createElement('a');\n",
              "      a.href = window.URL.createObjectURL(blob);\n",
              "      a.download = filename;\n",
              "      div.appendChild(a);\n",
              "      a.click();\n",
              "      div.remove();\n",
              "    }\n",
              "  "
            ]
          },
          "metadata": {}
        },
        {
          "output_type": "display_data",
          "data": {
            "text/plain": [
              "<IPython.core.display.Javascript object>"
            ],
            "application/javascript": [
              "download(\"download_bbece6fc-2250-4b1b-9287-71ffea694697\", \"UKT_youtube_comments.csv\", 76758)"
            ]
          },
          "metadata": {}
        }
      ]
    },
    {
      "cell_type": "code",
      "source": [
        "# Masukkan ID video YouTube dan kunci API Anda\n",
        "video_id = '63whjL5-ync'\n",
        "api_key = '-'\n",
        "\n",
        "# Panggil fungsi untuk mendapatkan komentar beserta balasan dan informasi tambahan\n",
        "comments_data = get_video_comments(video_id, api_key)\n",
        "\n",
        "# Simpan data komentar beserta balasan ke dalam DataFrame\n",
        "df = pd.DataFrame(comments_data)\n",
        "\n",
        "# Simpan data ke file CSV\n",
        "df.to_csv('youtube_comments_with_replies.csv', index=False)\n",
        "\n",
        "# Simpan data komentar ke file CSV\n",
        "df.to_csv('youtube_comments_with_info.csv', index=False)\n",
        "df.to_csv('UKT_youtube_comments.csv', index=False)\n",
        "from google.colab import files\n",
        "files.download('UKT_youtube_comments.csv')"
      ],
      "metadata": {
        "colab": {
          "base_uri": "https://localhost:8080/",
          "height": 17
        },
        "id": "bAhLsud3HXhX",
        "outputId": "faa080a1-15f3-4bb7-ce76-c23c5e9e65b0"
      },
      "execution_count": null,
      "outputs": [
        {
          "output_type": "display_data",
          "data": {
            "text/plain": [
              "<IPython.core.display.Javascript object>"
            ],
            "application/javascript": [
              "\n",
              "    async function download(id, filename, size) {\n",
              "      if (!google.colab.kernel.accessAllowed) {\n",
              "        return;\n",
              "      }\n",
              "      const div = document.createElement('div');\n",
              "      const label = document.createElement('label');\n",
              "      label.textContent = `Downloading \"${filename}\": `;\n",
              "      div.appendChild(label);\n",
              "      const progress = document.createElement('progress');\n",
              "      progress.max = size;\n",
              "      div.appendChild(progress);\n",
              "      document.body.appendChild(div);\n",
              "\n",
              "      const buffers = [];\n",
              "      let downloaded = 0;\n",
              "\n",
              "      const channel = await google.colab.kernel.comms.open(id);\n",
              "      // Send a message to notify the kernel that we're ready.\n",
              "      channel.send({})\n",
              "\n",
              "      for await (const message of channel.messages) {\n",
              "        // Send a message to notify the kernel that we're ready.\n",
              "        channel.send({})\n",
              "        if (message.buffers) {\n",
              "          for (const buffer of message.buffers) {\n",
              "            buffers.push(buffer);\n",
              "            downloaded += buffer.byteLength;\n",
              "            progress.value = downloaded;\n",
              "          }\n",
              "        }\n",
              "      }\n",
              "      const blob = new Blob(buffers, {type: 'application/binary'});\n",
              "      const a = document.createElement('a');\n",
              "      a.href = window.URL.createObjectURL(blob);\n",
              "      a.download = filename;\n",
              "      div.appendChild(a);\n",
              "      a.click();\n",
              "      div.remove();\n",
              "    }\n",
              "  "
            ]
          },
          "metadata": {}
        },
        {
          "output_type": "display_data",
          "data": {
            "text/plain": [
              "<IPython.core.display.Javascript object>"
            ],
            "application/javascript": [
              "download(\"download_9faa8fb9-cc62-4f33-a8ac-7f815a46a833\", \"UKT_youtube_comments.csv\", 112318)"
            ]
          },
          "metadata": {}
        }
      ]
    },
    {
      "cell_type": "code",
      "source": [],
      "metadata": {
        "id": "DYYmHG2UWfge"
      },
      "execution_count": null,
      "outputs": []
    }
  ]
}
